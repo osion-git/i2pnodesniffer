{
 "cells": [
  {
   "metadata": {},
   "cell_type": "markdown",
   "source": "## Prepare the data for the ML algorithm",
   "id": "67ffd23b1cb63d2a"
  },
  {
   "metadata": {},
   "cell_type": "code",
   "source": [
    "\n",
    "%%capture\n",
    "from scapy.utils import rdpcap\n",
    "\n",
    "from helper.csv_annotation_utils import add_predictions\n",
    "from helper.csv_annotation_utils import get_frame_numbers\n",
    "\n",
    "%run -i ./i2p_network_traffic_patterns_all.ipynb"
   ],
   "id": "3d9effd1b9b6cd44",
   "outputs": [],
   "execution_count": null
  },
  {
   "metadata": {},
   "cell_type": "markdown",
   "source": "## Preparing data for extracting",
   "id": "a26d8d804e47c1bc"
  },
  {
   "metadata": {},
   "cell_type": "code",
   "source": [
    "from scapy.layers.inet import IP\n",
    "\n",
    "\n",
    "def remove_packets(packets, frame_nums_all, frame_nums_exclude, target_ips):\n",
    "    \"\"\"\n",
    "    Removes frames that not sure if connection is a jump.\n",
    "\n",
    "    :param packets: List of packets\n",
    "    :param frame_nums_all: Set or list of frame numbers to consider\n",
    "    :param frame_nums_exclude: Set or list of frame numbers to exclude\n",
    "    :param target_ips: List of destination IP addresses to match\n",
    "    :return: A new list of packets without the removed one\n",
    "    \"\"\"\n",
    "    remove_frames = set(frame_nums_all) - set(frame_nums_exclude)\n",
    "    remove_frames_filtered = [\n",
    "        frame_num for frame_num in remove_frames\n",
    "        if IP in packets[frame_num] and packets[frame_num][IP].dst in target_ips\n",
    "    ]\n",
    "    return [\n",
    "        pkt\n",
    "        for pkt in packets\n",
    "        if pkt.old_frame_number not in remove_frames_filtered\n",
    "    ]\n",
    "\n",
    "\n",
    "packets = rdpcap('traffic_with_filter.pcap')\n",
    "# Add new attribute to connect to the original data\n",
    "for i, pkt in enumerate(packets, start=1):\n",
    "    pkt.old_frame_number = i\n",
    "# Receive frame number\n",
    "frame_all_connections = get_frame_numbers(all_connections)\n",
    "frame_nums_start_to_all_targets = get_frame_numbers(all_start_connections)\n",
    "frame_nums_start_to_single_unique_target = get_frame_numbers(list(start_node_unique_connections)[0][1])\n",
    "frame_nums_other_nodes_connections = get_frame_numbers(list(track_other_connections)[0][1])\n",
    "# Add predictions\n",
    "add_predictions(packets, frame_all_connections, 0)\n",
    "add_predictions(packets, frame_nums_start_to_single_unique_target, 1)\n",
    "# Remove frames\n",
    "final_packet = remove_packets(\n",
    "    packets,\n",
    "    frame_nums_start_to_all_targets,\n",
    "    frame_nums_start_to_single_unique_target,\n",
    "    [\"10.8.0.6\"]  # this can handle just one jump node\n",
    ")\n",
    "#Check that the frame number and IP match the original data (just for the user)\n",
    "for i, pkt in enumerate(final_packet):\n",
    "    if pkt.haslayer('IP') and pkt['IP'].dst == '10.8.0.6':\n",
    "        #print(f'Index {i}, Frame {pkt.old_frame_number}') -- Off by default, as too much data is printed\n",
    "        print(pkt)\n",
    "# Only keep packages with the prediction attribute set\n",
    "final_packet = [pkt for pkt in final_packet if hasattr(pkt, 'prediction')]"
   ],
   "id": "abca0cdfeafe4553",
   "outputs": [],
   "execution_count": null
  },
  {
   "metadata": {},
   "cell_type": "markdown",
   "source": "## Export data as CSV",
   "id": "407054857c336bca"
  },
  {
   "metadata": {},
   "cell_type": "code",
   "source": [
    "%load_ext autoreload\n",
    "%autoreload 2\n",
    "\n",
    "import importlib\n",
    "import helper.create_csv_utils\n",
    "\n",
    "importlib.reload(helper.create_csv_utils)\n",
    "from helper.create_csv_utils import create_csv\n",
    "\n",
    "create_csv(final_packet, \"cnn.csv\", False)\n"
   ],
   "id": "953d60ef16046d5f",
   "outputs": [],
   "execution_count": null
  },
  {
   "metadata": {},
   "cell_type": "code",
   "source": "",
   "id": "3dda5865e45ace20",
   "outputs": [],
   "execution_count": null
  }
 ],
 "metadata": {
  "kernelspec": {
   "display_name": "Python 3",
   "language": "python",
   "name": "python3"
  },
  "language_info": {
   "codemirror_mode": {
    "name": "ipython",
    "version": 2
   },
   "file_extension": ".py",
   "mimetype": "text/x-python",
   "name": "python",
   "nbconvert_exporter": "python",
   "pygments_lexer": "ipython2",
   "version": "2.7.6"
  }
 },
 "nbformat": 4,
 "nbformat_minor": 5
}
