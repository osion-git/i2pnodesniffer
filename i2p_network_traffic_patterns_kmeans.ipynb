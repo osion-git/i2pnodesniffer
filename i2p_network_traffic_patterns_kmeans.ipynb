{
 "cells": [
  {
   "metadata": {},
   "cell_type": "markdown",
   "source": [
    "# I2P k-Means-Algorithmus\n",
    "Es wird ein k-Means-Algorithmus angwendet."
   ],
   "id": "49e686907b4887e3"
  },
  {
   "cell_type": "code",
   "metadata": {
    "ExecuteTime": {
     "end_time": "2025-04-16T23:18:17.334872Z",
     "start_time": "2025-04-16T23:18:17.332571Z"
    }
   },
   "source": [
    "from collections import Counter\n",
    "\n",
    "import matplotlib.pyplot as plt\n",
    "import numpy as np\n",
    "import pandas as pd\n",
    "from scapy.all import rdpcap, IP, TCP, UDP, Raw\n",
    "from scipy.stats import entropy\n",
    "from sklearn.cluster import KMeans\n",
    "from sklearn.preprocessing import StandardScaler"
   ],
   "id": "ded4a4d05918310a",
   "outputs": [],
   "execution_count": 9
  },
  {
   "cell_type": "code",
   "metadata": {
    "ExecuteTime": {
     "end_time": "2025-04-16T23:18:26.841528Z",
     "start_time": "2025-04-16T23:18:17.492641Z"
    }
   },
   "source": [
    "source_ip = '10.8.0.2'\n",
    "target_ip = '10.8.0.11'\n",
    "packets = rdpcap('traffic_with_filter.pcap')"
   ],
   "id": "acf390d4e4af4bfe",
   "outputs": [],
   "execution_count": 10
  },
  {
   "metadata": {
    "ExecuteTime": {
     "end_time": "2025-04-16T23:18:27.208641Z",
     "start_time": "2025-04-16T23:18:27.006335Z"
    }
   },
   "cell_type": "code",
   "source": [
    "filter_with_source_ip = True\n",
    "\n",
    "\n",
    "def filter_packets(packets):\n",
    "    return [\n",
    "        (frame_number, pkt) for frame_number, pkt in enumerate(packets, start=1)\n",
    "        if IP in pkt\n",
    "           and pkt[IP].dst == target_ip\n",
    "           and (pkt[IP].src == source_ip if filter_with_source_ip else True)\n",
    "    ]\n",
    "\n",
    "\n",
    "filtered_packets = filter_packets(packets)\n",
    "\n",
    "print(\n",
    "    f\"Anzahl der Pakete zu {target_ip}{' und von ' + source_ip if 'source_ip' in globals() and source_ip else ''}: {len(filtered_packets)}\")"
   ],
   "id": "1b097e85eb307f01",
   "outputs": [
    {
     "name": "stdout",
     "output_type": "stream",
     "text": [
      "Anzahl der Pakete zu 10.8.0.11 und von 10.8.0.2: 435\n"
     ]
    }
   ],
   "execution_count": 11
  },
  {
   "metadata": {},
   "cell_type": "markdown",
   "source": [
    "# Features\n",
    "Werden gelesen und für k-Means vorbereitet."
   ],
   "id": "d62dab42413bb10f"
  },
  {
   "cell_type": "code",
   "metadata": {
    "ExecuteTime": {
     "end_time": "2025-04-16T23:18:27.374103Z",
     "start_time": "2025-04-16T23:18:27.368600Z"
    }
   },
   "source": [
    "def byte_histogram(payload: bytes):\n",
    "    counts = Counter(payload)\n",
    "    hist = np.array([counts.get(i, 0) for i in range(256)])\n",
    "    return hist / hist.sum() if hist.sum() > 0 else np.zeros(256)\n",
    "\n",
    "\n",
    "def calc_entropy(payload: bytes):\n",
    "    if not payload:\n",
    "        return 0.0\n",
    "    counts = Counter(payload)\n",
    "    probs = np.array(list(counts.values())) / len(payload)\n",
    "    return entropy(probs, base=2)\n",
    "\n",
    "\n",
    "features = []\n",
    "frame_numbers = []\n",
    "\n",
    "\n",
    "def build_with_protocol():\n",
    "    for frame_number, pkt in filtered_packets:\n",
    "        if Raw in pkt:\n",
    "            payload = bytes(pkt[Raw].load)\n",
    "        if TCP in pkt:\n",
    "            protocol = \"tcp\"\n",
    "            src_port = pkt[TCP].sport\n",
    "            dst_port = pkt[TCP].dport\n",
    "        elif UDP in pkt:\n",
    "            protocol = \"udp\"\n",
    "            src_port = pkt[UDP].sport\n",
    "            dst_port = pkt[UDP].dport\n",
    "        else:\n",
    "            protocol = \"unknown\"\n",
    "            src_port = 0\n",
    "            dst_port = 0\n",
    "\n",
    "        payload_len = len(payload)\n",
    "        hist = byte_histogram(payload)\n",
    "        protocol_encoded = 0 if protocol == \"tcp\" else (1 if protocol == \"udp\" else 2)\n",
    "        vec = [src_port, dst_port, payload_len, protocol_encoded, *hist]\n",
    "        frame_numbers.append(frame_number)\n",
    "        features.append(vec)"
   ],
   "id": "2cd149a06a643897",
   "outputs": [],
   "execution_count": 12
  },
  {
   "metadata": {
    "ExecuteTime": {
     "end_time": "2025-04-16T23:18:27.775537Z",
     "start_time": "2025-04-16T23:18:27.772346Z"
    }
   },
   "cell_type": "code",
   "source": [
    "def create_feature_columns():\n",
    "    df = pd.DataFrame(features)\n",
    "    df.columns = ['src_port', 'dst_port', 'payload_len', 'protocol'] + [f'byte_{i}' for i in range(256)]\n",
    "    df.head()\n",
    "    scaler = StandardScaler()\n",
    "    return scaler.fit_transform(df)"
   ],
   "id": "b81445bd8075283f",
   "outputs": [],
   "execution_count": 13
  },
  {
   "metadata": {
    "ExecuteTime": {
     "end_time": "2025-04-16T23:18:28.039819Z",
     "start_time": "2025-04-16T23:18:27.970Z"
    }
   },
   "cell_type": "code",
   "source": [
    "build_with_protocol()\n",
    "X_scaled = create_feature_columns()"
   ],
   "id": "32ccd451a99ab028",
   "outputs": [],
   "execution_count": 14
  },
  {
   "metadata": {},
   "cell_type": "markdown",
   "source": "# Elbow-Auswertung",
   "id": "7b14941d50a10240"
  },
  {
   "cell_type": "code",
   "metadata": {
    "ExecuteTime": {
     "end_time": "2025-04-16T23:18:28.623232Z",
     "start_time": "2025-04-16T23:18:28.195367Z"
    }
   },
   "source": [
    "inertia = []\n",
    "k_range = range(1, 55)\n",
    "\n",
    "for k in k_range:\n",
    "    km = KMeans(n_clusters=k, random_state=42)\n",
    "    km.fit(X_scaled)\n",
    "    inertia.append(km.inertia_)\n",
    "\n",
    "plt.plot(k_range, inertia, marker='o')\n",
    "plt.title(\"\")\n",
    "plt.xlabel(\"Anzahl Cluster (k)\")\n",
    "plt.ylabel(\"Verzehrung\")\n",
    "plt.grid(True)\n",
    "plt.xticks(range(1, 55, 3))\n",
    "plt.show()"
   ],
   "id": "6f3ec02352d5f8f4",
   "outputs": [
    {
     "data": {
      "text/plain": [
       "<Figure size 640x480 with 1 Axes>"
      ],
      "image/png": "[encoded data removed]"
     },
     "metadata": {},
     "output_type": "display_data"
    }
   ],
   "execution_count": 15
  },
  {
   "metadata": {},
   "cell_type": "markdown",
   "source": "# Anzahl Punkte pro Cluster zählen",
   "id": "9bfc88e9dfab25d5"
  },
  {
   "metadata": {
    "ExecuteTime": {
     "end_time": "2025-04-16T23:22:51.471286Z",
     "start_time": "2025-04-16T23:22:51.456447Z"
    }
   },
   "cell_type": "code",
   "source": [
    "from sklearn.cluster import KMeans\n",
    "\n",
    "optimal_k = 49\n",
    "km_optimal = KMeans(n_clusters=optimal_k, random_state=42)\n",
    "cluster_labels = km_optimal.fit_predict(X_scaled)\n",
    "\n",
    "# Cluster sammeln\n",
    "cluster_dict = {}\n",
    "for index, label in enumerate(cluster_labels):\n",
    "    cluster_dict.setdefault(label, []).append(index)\n",
    "\n",
    "# Nach Grösse sortieren\n",
    "sorted_clusters = sorted(cluster_dict.items(), key=lambda item: len(item[1]), reverse=True)\n",
    "\n",
    "# Ausgabe: Cluster mit Frame-Nummern\n",
    "for cluster, indices in sorted_clusters:\n",
    "    frame_ids = [frame_numbers[i] for i in indices]\n",
    "    print(f\"Cluster {cluster} ({len(indices)} Punkte): Frames {frame_ids}\\n\")\n",
    "\n",
    "# Durchschnitt\n",
    "total_points = sum(len(indices) for _, indices in sorted_clusters)\n",
    "average_points = total_points / optimal_k\n",
    "print(f\"⟶ Durchschnittliche Anzahl an Punkten pro Cluster: {average_points:.2f}\\n\")\n",
    "\n",
    "# Clustergrössen zusammenfassen\n",
    "cluster_size_counts = {}\n",
    "for indices in cluster_dict.values():\n",
    "    size = len(indices)\n",
    "    cluster_size_counts[size] = cluster_size_counts.get(size, 0) + 1\n",
    "\n",
    "print(\"Verteilung der Clustergrössen:\")\n",
    "for size in sorted(cluster_size_counts):\n",
    "    count = cluster_size_counts[size]\n",
    "    print(f\"{size} Datenpunkte: {count} Cluster\")\n"
   ],
   "id": "508417798fb14a06",
   "outputs": [
    {
     "name": "stdout",
     "output_type": "stream",
     "text": [
      "Cluster 46 (34 Punkte): Frames [1043, 1396, 1505, 4032, 4536, 7640, 8185, 8600, 9974, 10111, 12150, 12669, 12769, 13544, 13805, 15309, 16197, 16933, 17713, 19712, 20532, 20817, 24805, 24820, 25431, 26713, 26808, 27456, 32320, 34312, 35809, 37722, 38992, 40263]\n",
      "\n",
      "Cluster 20 (27 Punkte): Frames [1895, 2935, 3097, 3199, 4575, 5389, 7495, 11303, 11903, 12019, 13791, 13908, 17229, 19346, 19725, 20120, 20996, 21348, 21490, 22002, 23084, 27869, 29473, 30737, 31604, 39221, 40207]\n",
      "\n",
      "Cluster 43 (24 Punkte): Frames [1472, 5191, 5339, 5525, 5733, 5849, 9652, 9878, 12797, 15248, 15814, 22783, 23887, 24256, 24968, 25070, 25418, 26965, 32686, 33885, 38154, 38533, 40359, 41836]\n",
      "\n",
      "Cluster 30 (19 Punkte): Frames [2593, 6862, 7314, 11220, 13271, 15472, 16494, 18800, 18885, 23408, 26432, 27017, 28007, 28522, 30105, 30632, 35842, 36974, 41562]\n",
      "\n",
      "Cluster 27 (19 Punkte): Frames [5147, 7240, 7787, 8773, 9133, 10355, 10904, 15092, 19978, 21414, 23925, 30599, 32093, 32646, 32713, 33484, 37147, 39797, 39820]\n",
      "\n",
      "Cluster 34 (19 Punkte): Frames [5652, 7508, 13147, 15451, 15724, 16918, 17136, 17349, 20714, 21757, 24332, 28424, 31532, 35477, 36134, 37603, 38784, 39537, 40679]\n",
      "\n",
      "Cluster 6 (17 Punkte): Frames [5006, 10144, 12240, 14016, 14680, 16604, 17782, 19022, 22555, 24410, 24737, 29514, 29573, 30699, 33917, 34481, 40543]\n",
      "\n",
      "Cluster 26 (15 Punkte): Frames [853, 981, 8463, 8776, 12143, 15155, 16619, 17167, 18242, 20954, 26286, 30295, 36485, 38048, 40525]\n",
      "\n",
      "Cluster 21 (15 Punkte): Frames [1144, 2599, 3214, 8165, 10557, 15807, 21028, 30518, 31199, 32826, 33693, 34826, 37537, 40147, 40197]\n",
      "\n",
      "Cluster 5 (15 Punkte): Frames [1424, 2277, 4795, 5714, 6236, 14094, 14742, 18836, 20266, 25040, 28883, 37457, 38019, 38508, 40081]\n",
      "\n",
      "Cluster 1 (14 Punkte): Frames [3573, 5937, 7925, 8728, 11718, 18288, 23328, 24979, 27437, 31244, 34439, 36231, 39071, 41331]\n",
      "\n",
      "Cluster 39 (14 Punkte): Frames [4330, 6122, 11410, 12466, 20185, 21675, 21897, 23036, 25535, 25832, 28128, 33248, 37667, 41071]\n",
      "\n",
      "Cluster 3 (14 Punkte): Frames [5629, 13120, 18258, 19967, 20603, 27407, 31008, 32982, 34222, 34398, 34908, 38247, 40734, 41884]\n",
      "\n",
      "Cluster 38 (14 Punkte): Frames [5889, 9456, 10748, 12053, 13232, 14383, 14609, 18429, 18703, 21654, 27138, 35050, 36452, 36959]\n",
      "\n",
      "Cluster 2 (13 Punkte): Frames [2716, 8905, 15615, 15772, 18638, 19497, 23808, 26124, 27438, 34753, 35393, 41590, 42990]\n",
      "\n",
      "Cluster 4 (12 Punkte): Frames [2738, 3758, 4371, 8347, 10699, 14503, 16664, 22058, 23302, 24535, 25569, 39659]\n",
      "\n",
      "Cluster 10 (11 Punkte): Frames [6440, 7056, 8363, 10600, 12738, 18380, 32288, 35872, 35954, 37059, 41247]\n",
      "\n",
      "Cluster 23 (10 Punkte): Frames [2069, 7714, 21421, 27449, 28616, 29113, 29886, 32584, 36709, 39486]\n",
      "\n",
      "Cluster 47 (10 Punkte): Frames [6367, 6792, 10893, 14053, 17910, 22912, 24127, 26458, 30132, 33739]\n",
      "\n",
      "Cluster 15 (9 Punkte): Frames [2052, 9104, 11536, 16831, 21282, 31148, 33933, 34035, 39344]\n",
      "\n",
      "Cluster 31 (8 Punkte): Frames [9415, 12658, 17591, 18330, 24501, 33499, 35253, 38764]\n",
      "\n",
      "Cluster 32 (7 Punkte): Frames [765, 3011, 8863, 9260, 22504, 31763, 33311]\n",
      "\n",
      "Cluster 33 (7 Punkte): Frames [2010, 10341, 19287, 20242, 21905, 24546, 30967]\n",
      "\n",
      "Cluster 18 (7 Punkte): Frames [2611, 21670, 26351, 27886, 33953, 37175, 39940]\n",
      "\n",
      "Cluster 35 (7 Punkte): Frames [8818, 14723, 15279, 17769, 23968, 26983, 31164]\n",
      "\n",
      "Cluster 13 (7 Punkte): Frames [12089, 22682, 24629, 26102, 29255, 37306, 40873]\n",
      "\n",
      "Cluster 36 (6 Punkte): Frames [1175, 6086, 28447, 29245, 33094, 37106]\n",
      "\n",
      "Cluster 12 (6 Punkte): Frames [2409, 9496, 11686, 34777, 37879, 41098]\n",
      "\n",
      "Cluster 42 (6 Punkte): Frames [2902, 6427, 15109, 16308, 21245, 25808]\n",
      "\n",
      "Cluster 16 (5 Punkte): Frames [2575, 4015, 35760, 36326, 41178]\n",
      "\n",
      "Cluster 29 (5 Punkte): Frames [3835, 9936, 18592, 19590, 31877]\n",
      "\n",
      "Cluster 17 (5 Punkte): Frames [5882, 13527, 23201, 33871, 36770]\n",
      "\n",
      "Cluster 9 (4 Punkte): Frames [4641, 8909, 9241, 28091]\n",
      "\n",
      "Cluster 7 (3 Punkte): Frames [2510, 6333, 7148]\n",
      "\n",
      "Cluster 8 (3 Punkte): Frames [12443, 15188, 33294]\n",
      "\n",
      "Cluster 37 (3 Punkte): Frames [17977, 30251, 38944]\n",
      "\n",
      "Cluster 45 (3 Punkte): Frames [23683, 28047, 41816]\n",
      "\n",
      "Cluster 24 (2 Punkte): Frames [2206, 21845]\n",
      "\n",
      "Cluster 14 (2 Punkte): Frames [3596, 5824]\n",
      "\n",
      "Cluster 11 (2 Punkte): Frames [4255, 39640]\n",
      "\n",
      "Cluster 0 (2 Punkte): Frames [15664, 36547]\n",
      "\n",
      "Cluster 28 (2 Punkte): Frames [29453, 40932]\n",
      "\n",
      "Cluster 40 (2 Punkte): Frames [29980, 30541]\n",
      "\n",
      "Cluster 48 (1 Punkte): Frames [1406]\n",
      "\n",
      "Cluster 41 (1 Punkte): Frames [6168]\n",
      "\n",
      "Cluster 25 (1 Punkte): Frames [8998]\n",
      "\n",
      "Cluster 44 (1 Punkte): Frames [31510]\n",
      "\n",
      "Cluster 22 (1 Punkte): Frames [31574]\n",
      "\n",
      "Cluster 19 (1 Punkte): Frames [31790]\n",
      "\n",
      "⟶ Durchschnittliche Anzahl an Punkten pro Cluster: 8.88\n",
      "\n",
      "Verteilung der Clustergrössen:\n",
      "1 Datenpunkte: 6 Cluster\n",
      "2 Datenpunkte: 6 Cluster\n",
      "3 Datenpunkte: 4 Cluster\n",
      "4 Datenpunkte: 1 Cluster\n",
      "5 Datenpunkte: 3 Cluster\n",
      "6 Datenpunkte: 3 Cluster\n",
      "7 Datenpunkte: 5 Cluster\n",
      "8 Datenpunkte: 1 Cluster\n",
      "9 Datenpunkte: 1 Cluster\n",
      "10 Datenpunkte: 2 Cluster\n",
      "11 Datenpunkte: 1 Cluster\n",
      "12 Datenpunkte: 1 Cluster\n",
      "13 Datenpunkte: 1 Cluster\n",
      "14 Datenpunkte: 4 Cluster\n",
      "15 Datenpunkte: 3 Cluster\n",
      "17 Datenpunkte: 1 Cluster\n",
      "19 Datenpunkte: 3 Cluster\n",
      "24 Datenpunkte: 1 Cluster\n",
      "27 Datenpunkte: 1 Cluster\n",
      "34 Datenpunkte: 1 Cluster\n"
     ]
    }
   ],
   "execution_count": 17
  },
  {
   "metadata": {},
   "cell_type": "code",
   "outputs": [],
   "execution_count": null,
   "source": "",
   "id": "8c3920c9949413b6"
  }
 ],
 "metadata": {
  "kernelspec": {
   "display_name": "Python 3",
   "language": "python",
   "name": "python3"
  },
  "language_info": {
   "name": "python",
   "version": "3.x"
  }
 },
 "nbformat": 4,
 "nbformat_minor": 5
}
