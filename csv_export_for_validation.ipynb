{
 "cells": [
  {
   "metadata": {},
   "cell_type": "markdown",
   "source": "## Prepare the data for the ML algorithm",
   "id": "67ffd23b1cb63d2a"
  },
  {
   "metadata": {},
   "cell_type": "code",
   "source": "from scapy.utils import rdpcap\n",
   "id": "3d9effd1b9b6cd44",
   "outputs": [],
   "execution_count": null
  },
  {
   "metadata": {},
   "cell_type": "markdown",
   "source": "## Export data as CSV",
   "id": "407054857c336bca"
  },
  {
   "metadata": {},
   "cell_type": "code",
   "source": [
    "import importlib\n",
    "import helper.create_csv_utils\n",
    "\n",
    "importlib.reload(helper.create_csv_utils)\n",
    "# Reimport to get the updated version - importing, because if create_csv is changed\n",
    "from helper.create_csv_utils import create_csv\n",
    "\n",
    "packets = rdpcap('reali2p_docker_filter.pcap')\n",
    "for i, pkt in enumerate(packets, start=1):\n",
    "    pkt.old_frame_number = i\n",
    "    pkt.prediction = 0\n",
    "create_csv(packets, \"cnn_docker.csv\", False)\n"
   ],
   "id": "953d60ef16046d5f",
   "outputs": [],
   "execution_count": null
  },
  {
   "metadata": {},
   "cell_type": "code",
   "source": "",
   "id": "6856f88f5bea2369",
   "outputs": [],
   "execution_count": null
  }
 ],
 "metadata": {
  "kernelspec": {
   "display_name": "Python 3",
   "language": "python",
   "name": "python3"
  },
  "language_info": {
   "codemirror_mode": {
    "name": "ipython",
    "version": 2
   },
   "file_extension": ".py",
   "mimetype": "text/x-python",
   "name": "python",
   "nbconvert_exporter": "python",
   "pygments_lexer": "ipython2",
   "version": "2.7.6"
  }
 },
 "nbformat": 4,
 "nbformat_minor": 5
}
